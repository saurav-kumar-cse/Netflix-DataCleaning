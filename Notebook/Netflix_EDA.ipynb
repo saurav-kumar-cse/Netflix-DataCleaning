{
 "cells": [
  {
   "cell_type": "code",
   "execution_count": 100,
   "id": "e73640db-cde3-48c3-ae08-06bef26b70af",
   "metadata": {},
   "outputs": [],
   "source": [
    "import pandas as pd\n",
    "df=pd.read_csv(\"netflix_titles.csv\")"
   ]
  },
  {
   "cell_type": "code",
   "execution_count": 101,
   "id": "b227c781-5c88-4246-9a60-74f9e87df04f",
   "metadata": {},
   "outputs": [
    {
     "data": {
      "text/plain": [
       "((8807, 12),\n",
       " ['show_id',\n",
       "  'type',\n",
       "  'title',\n",
       "  'director',\n",
       "  'cast',\n",
       "  'country',\n",
       "  'date_added',\n",
       "  'release_year',\n",
       "  'rating',\n",
       "  'duration',\n",
       "  'listed_in',\n",
       "  'description'])"
      ]
     },
     "execution_count": 101,
     "metadata": {},
     "output_type": "execute_result"
    }
   ],
   "source": [
    "df.shape, df.columns.tolist()"
   ]
  },
  {
   "cell_type": "code",
   "execution_count": 102,
   "id": "5d53ae1f-94e0-4ad4-9e05-b9cfc79a4841",
   "metadata": {},
   "outputs": [
    {
     "name": "stdout",
     "output_type": "stream",
     "text": [
      "<class 'pandas.core.frame.DataFrame'>\n",
      "RangeIndex: 8807 entries, 0 to 8806\n",
      "Data columns (total 12 columns):\n",
      " #   Column        Non-Null Count  Dtype \n",
      "---  ------        --------------  ----- \n",
      " 0   show_id       8807 non-null   object\n",
      " 1   type          8807 non-null   object\n",
      " 2   title         8807 non-null   object\n",
      " 3   director      6173 non-null   object\n",
      " 4   cast          7982 non-null   object\n",
      " 5   country       7976 non-null   object\n",
      " 6   date_added    8797 non-null   object\n",
      " 7   release_year  8807 non-null   int64 \n",
      " 8   rating        8803 non-null   object\n",
      " 9   duration      8804 non-null   object\n",
      " 10  listed_in     8807 non-null   object\n",
      " 11  description   8807 non-null   object\n",
      "dtypes: int64(1), object(11)\n",
      "memory usage: 825.8+ KB\n"
     ]
    },
    {
     "data": {
      "text/plain": [
       "director        2634\n",
       "country          831\n",
       "cast             825\n",
       "date_added        10\n",
       "rating             4\n",
       "duration           3\n",
       "show_id            0\n",
       "type               0\n",
       "title              0\n",
       "release_year       0\n",
       "listed_in          0\n",
       "description        0\n",
       "dtype: int64"
      ]
     },
     "execution_count": 102,
     "metadata": {},
     "output_type": "execute_result"
    }
   ],
   "source": [
    "# 1. Initial inspection\n",
    "df.head() \n",
    "df.info()\n",
    "df.describe(include='all').T\n",
    "df.isnull().sum().sort_values(ascending =  False)"
   ]
  },
  {
   "cell_type": "code",
   "execution_count": 103,
   "id": "b4ea4295-3c1d-4aec-ae03-efb3f523f1fa",
   "metadata": {},
   "outputs": [],
   "source": [
    " # 2. Clean column names (uniform)\n",
    "df.columns = (\n",
    "    df.columns.str.strip()\n",
    "              .str.lower()\n",
    "              .str.replace(' ', '_')\n",
    "              .str.replace(r'[^\\w_]', '', regex=True)\n",
    ")\n"
   ]
  },
  {
   "cell_type": "code",
   "execution_count": 104,
   "id": "79eb028d-e63e-478a-b4e7-47e61a891724",
   "metadata": {},
   "outputs": [
    {
     "name": "stdout",
     "output_type": "stream",
     "text": [
      "Dropped duplicates: 0\n"
     ]
    }
   ],
   "source": [
    "# 3. Remove exact duplicate rows (if any)\n",
    "before = len(df)\n",
    "df = df.drop_duplicates()\n",
    "after = len(df)\n",
    "print(\"Dropped duplicates:\", before-after)\n"
   ]
  },
  {
   "cell_type": "code",
   "execution_count": 105,
   "id": "78887c85-8463-46d2-9ed9-2c828969a558",
   "metadata": {},
   "outputs": [],
   "source": [
    "# 4. Handle missing values (strategy per column)\n",
    "# - director, cast, country, rating, description: fill with 'Unknown' \n",
    "fill_with_unknown = ['director', 'cast', 'country', 'rating', 'description']\n",
    "for c in fill_with_unknown:\n",
    "    if c in df.columns:\n",
    "        df[c] = df[c].fillna('Unknown')\n"
   ]
  },
  {
   "cell_type": "code",
   "execution_count": 106,
   "id": "e8686efc-c471-40d8-9450-fa94723c880e",
   "metadata": {},
   "outputs": [],
   "source": [
    "# 5. Standardize text fields (strip whitespace, normalize case where useful)\n",
    "text_cols = ['type','title','director','cast','country','rating','listed_in','description']\n",
    "for c in text_cols:\n",
    "    if c in df.columns:\n",
    "        df[c] = df[c].astype(str).str.strip()\n",
    "        "
   ]
  },
  {
   "cell_type": "code",
   "execution_count": 107,
   "id": "bb04d537-a928-4eab-8e84-2171c39fb81d",
   "metadata": {},
   "outputs": [],
   "source": [
    "# 6. Fix date formats: date_added -> datetime\n",
    "if 'date_added' in df.columns:\n",
    "    df['date_added'] = pd.to_datetime(df['date_added'], errors='coerce')\n"
   ]
  },
  {
   "cell_type": "code",
   "execution_count": 108,
   "id": "22ed42b3-09c3-47ea-b932-fa7a346fe5fa",
   "metadata": {},
   "outputs": [],
   "source": [
    "# 7. Convert release_year to integer\n",
    "if 'release_year' in df.columns:\n",
    "    df['release_year'] = pd.to_numeric(df['release_year'], errors='coerce').astype('Int64')\n"
   ]
  },
  {
   "cell_type": "code",
   "execution_count": 109,
   "id": "d5d09e75-0a77-4f00-b73f-5b12771a2585",
   "metadata": {},
   "outputs": [],
   "source": [
    "# 8. Parse duration into numeric + unit\n",
    "# Example values: \"90 min\" or \"1 Season\"\n",
    "if 'duration' in df.columns:\n",
    "    # separate number and unit\n",
    "    dur = df['duration'].str.extract(r'(?P<duration_num>\\d+)\\s*(?P<duration_unit>\\w+)', expand=True)\n",
    "    df['duration_num']  = pd.to_numeric(dur['duration_num'], errors='coerce').astype('Int64')\n",
    "    df['duration_unit'] = dur['duration_unit'].str.lower().fillna('unknown')\n"
   ]
  },
  {
   "cell_type": "code",
   "execution_count": 110,
   "id": "482fe529-ea32-436d-8bab-46d05b0ca76d",
   "metadata": {},
   "outputs": [],
   "source": [
    "# 9. Standardize rating (if you want categories)\n",
    "if 'rating' in df.columns:\n",
    "    df['rating'] = df['rating'].replace(['UR'], 'Unknown')   # example\n",
    "    df['rating'] = df['rating'].replace('', 'Unknown')\n"
   ]
  },
  {
   "cell_type": "code",
   "execution_count": 111,
   "id": "5d2bdaff-0472-4713-a606-99f9f675d2ca",
   "metadata": {},
   "outputs": [],
   "source": [
    "# 10. Normalize country and cast lists\n",
    "# Many entries are comma-separated lists — trim whitespace\n",
    "if 'country' in df.columns:\n",
    "    df['country'] = df['country'].replace('Unknown', pd.NA) \n",
    "    df['primary_country'] = df['country'].fillna('').str.split(',').str[0].str.strip().replace('', pd.NA)\n"
   ]
  },
  {
   "cell_type": "code",
   "execution_count": 112,
   "id": "8d89a56f-8b48-4ee5-97fc-dd6e6836fe63",
   "metadata": {},
   "outputs": [],
   "source": [
    "# 11. Remove rows missing critical info \n",
    "df = df[df['type'].notna()]\n"
   ]
  },
  {
   "cell_type": "code",
   "execution_count": 113,
   "id": "ff2a15e1-5710-43a8-8924-3a3287017235",
   "metadata": {},
   "outputs": [
    {
     "name": "stdout",
     "output_type": "stream",
     "text": [
      "<class 'pandas.core.frame.DataFrame'>\n",
      "RangeIndex: 8807 entries, 0 to 8806\n",
      "Data columns (total 15 columns):\n",
      " #   Column           Non-Null Count  Dtype         \n",
      "---  ------           --------------  -----         \n",
      " 0   show_id          8807 non-null   object        \n",
      " 1   type             8807 non-null   object        \n",
      " 2   title            8807 non-null   object        \n",
      " 3   director         8807 non-null   object        \n",
      " 4   cast             8807 non-null   object        \n",
      " 5   country          7976 non-null   object        \n",
      " 6   date_added       8709 non-null   datetime64[ns]\n",
      " 7   release_year     8807 non-null   Int64         \n",
      " 8   rating           8807 non-null   object        \n",
      " 9   duration         8804 non-null   object        \n",
      " 10  listed_in        8807 non-null   object        \n",
      " 11  description      8807 non-null   object        \n",
      " 12  duration_num     8804 non-null   Int64         \n",
      " 13  duration_unit    8807 non-null   object        \n",
      " 14  primary_country  7974 non-null   object        \n",
      "dtypes: Int64(2), datetime64[ns](1), object(12)\n",
      "memory usage: 1.0+ MB\n"
     ]
    },
    {
     "data": {
      "text/plain": [
       "primary_country    833\n",
       "country            831\n",
       "date_added          98\n",
       "duration             3\n",
       "duration_num         3\n",
       "show_id              0\n",
       "type                 0\n",
       "title                0\n",
       "director             0\n",
       "cast                 0\n",
       "release_year         0\n",
       "rating               0\n",
       "listed_in            0\n",
       "description          0\n",
       "duration_unit        0\n",
       "dtype: int64"
      ]
     },
     "execution_count": 113,
     "metadata": {},
     "output_type": "execute_result"
    }
   ],
   "source": [
    "# 12. Type conversions & final checks\n",
    "df.info()\n",
    "df.isnull().sum().sort_values(ascending=False).head(20)\n"
   ]
  },
  {
   "cell_type": "code",
   "execution_count": 114,
   "id": "7b50f51a-2300-4db4-967f-868dc972d2c4",
   "metadata": {},
   "outputs": [],
   "source": [
    "# 13. Saving cleaned dataset\n",
    "df.to_csv(\"netflix_titles_cleaned.csv\", index=False)\n"
   ]
  },
  {
   "cell_type": "code",
   "execution_count": null,
   "id": "65675079-d3c7-4c07-aa63-c50ec611a9cc",
   "metadata": {},
   "outputs": [],
   "source": [
    "\n"
   ]
  }
 ],
 "metadata": {
  "kernelspec": {
   "display_name": "Python 3 (ipykernel)",
   "language": "python",
   "name": "python3"
  },
  "language_info": {
   "codemirror_mode": {
    "name": "ipython",
    "version": 3
   },
   "file_extension": ".py",
   "mimetype": "text/x-python",
   "name": "python",
   "nbconvert_exporter": "python",
   "pygments_lexer": "ipython3",
   "version": "3.12.6"
  }
 },
 "nbformat": 4,
 "nbformat_minor": 5
}
